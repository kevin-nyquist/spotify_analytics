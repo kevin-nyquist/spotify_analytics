{
 "cells": [
  {
   "cell_type": "code",
   "execution_count": 1,
   "id": "9440a187-0ebf-4bb7-810b-fe73ca037222",
   "metadata": {
    "tags": []
   },
   "outputs": [],
   "source": [
    "import requests\n",
    "import pandas as pd\n",
    "import main"
   ]
  },
  {
   "cell_type": "code",
   "execution_count": 2,
   "id": "4c81f1bc-2786-40a7-9147-6d19fac62aa2",
   "metadata": {
    "tags": []
   },
   "outputs": [],
   "source": [
    "# url = 'https://charts-spotify-com-service.spotify.com/public/v0/charts'\n",
    "# response = requests.get(url)\n",
    "# chart = []\n",
    "# for entry in response.json()['chartEntryViewResponses'][0]['entries']:\n",
    "#     chart.append({\n",
    "#         \"Rank\": entry['chartEntryData']['currentRank'],\n",
    "#         \"Artist\": ', '.join([artist['name'] for artist in entry['trackMetadata']['artists']]),\n",
    "#         \"TrackName\": entry['trackMetadata']['trackName']\n",
    "#     })\n",
    "# df = pd.DataFrame(chart)\n",
    "#print(df.to_string(index=False))"
   ]
  },
  {
   "cell_type": "code",
   "execution_count": 3,
   "id": "713c4f06-43c6-4c70-92f1-3a267e226bb9",
   "metadata": {
    "tags": []
   },
   "outputs": [],
   "source": [
    "#playlist_df = main.get_playlist()\n",
    "\n",
    "#playlist_df = main.get_5_songs(playlist_df)\n",
    "#playlist_df"
   ]
  },
  {
   "cell_type": "code",
   "execution_count": 4,
   "id": "84b17382-ac19-4c70-b149-ce5470582903",
   "metadata": {},
   "outputs": [
    {
     "ename": "NameError",
     "evalue": "name 'playlist_df' is not defined",
     "output_type": "error",
     "traceback": [
      "\u001b[0;31m---------------------------------------------------------------------------\u001b[0m",
      "\u001b[0;31mNameError\u001b[0m                                 Traceback (most recent call last)",
      "Cell \u001b[0;32mIn[4], line 1\u001b[0m\n\u001b[0;32m----> 1\u001b[0m playlist_df\u001b[38;5;241m.\u001b[39mto_csv(\u001b[38;5;124m'\u001b[39m\u001b[38;5;124mdata.csv\u001b[39m\u001b[38;5;124m'\u001b[39m, index\u001b[38;5;241m=\u001b[39m\u001b[38;5;28;01mFalse\u001b[39;00m)\n",
      "\u001b[0;31mNameError\u001b[0m: name 'playlist_df' is not defined"
     ]
    }
   ],
   "source": [
    "#playlist_df.to_csv('data.csv', index=False)"
   ]
  },
  {
   "cell_type": "code",
   "execution_count": 7,
   "id": "638cf45d-03fc-40c5-be29-cf7dbb212d54",
   "metadata": {},
   "outputs": [],
   "source": [
    "playlist_df = pd.read_csv(\"Nov6_song_data.csv\")\n",
    "playlist_df = main.get_track_audio_attributes(playlist_df)\n",
    "\n",
    "playlist_df.to_csv('audio_attributes2.csv', index=False)"
   ]
  },
  {
   "cell_type": "code",
   "execution_count": null,
   "id": "7dbbfa3f-0c3d-4da6-ba19-2409fd74e026",
   "metadata": {},
   "outputs": [],
   "source": []
  }
 ],
 "metadata": {
  "kernelspec": {
   "display_name": "Python 3 (ipykernel)",
   "language": "python",
   "name": "python3"
  },
  "language_info": {
   "codemirror_mode": {
    "name": "ipython",
    "version": 3
   },
   "file_extension": ".py",
   "mimetype": "text/x-python",
   "name": "python",
   "nbconvert_exporter": "python",
   "pygments_lexer": "ipython3",
   "version": "3.11.4"
  }
 },
 "nbformat": 4,
 "nbformat_minor": 5
}
