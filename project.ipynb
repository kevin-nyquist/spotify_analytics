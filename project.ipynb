{
 "cells": [
  {
   "cell_type": "code",
   "execution_count": 1,
   "id": "9440a187-0ebf-4bb7-810b-fe73ca037222",
   "metadata": {
    "tags": []
   },
   "outputs": [],
   "source": [
    "import requests\n",
    "import pandas as pd\n",
    "import main"
   ]
  },
  {
   "cell_type": "code",
   "execution_count": 2,
   "id": "4c81f1bc-2786-40a7-9147-6d19fac62aa2",
   "metadata": {
    "tags": []
   },
   "outputs": [],
   "source": [
    "url = 'https://charts-spotify-com-service.spotify.com/public/v0/charts'\n",
    "response = requests.get(url)\n",
    "chart = []\n",
    "for entry in response.json()['chartEntryViewResponses'][0]['entries']:\n",
    "    chart.append({\n",
    "        \"Rank\": entry['chartEntryData']['currentRank'],\n",
    "        \"Artist\": ', '.join([artist['name'] for artist in entry['trackMetadata']['artists']]),\n",
    "        \"TrackName\": entry['trackMetadata']['trackName']\n",
    "    })\n",
    "df = pd.DataFrame(chart)\n",
    "#print(df.to_string(index=False))"
   ]
  },
  {
   "cell_type": "code",
   "execution_count": 3,
   "id": "713c4f06-43c6-4c70-92f1-3a267e226bb9",
   "metadata": {
    "tags": []
   },
   "outputs": [
    {
     "name": "stdout",
     "output_type": "stream",
     "text": [
      "                  track_id                    track_name  danceability  \\\n",
      "0   7qiZfU4dY1lWllzX7mPBI3                  Shape of You         0.825   \n",
      "1   0VjIjW4GlUZAMYd2vXMi3b               Blinding Lights         0.514   \n",
      "2   2XU0oxnq2qxCpomAAuJY8K                  Dance Monkey         0.824   \n",
      "3   7qEHsqek33rTcFNT9PFqLf             Someone You Loved         0.501   \n",
      "4   0e7ipj03S05BNilyu5bRzt    rockstar (feat. 21 Savage)         0.585   \n",
      "..                     ...                           ...           ...   \n",
      "95  1EzrEOXmMH3G43AXT1y7pA                     I'm Yours         0.703   \n",
      "96  7ytR5pFWmSjzHJIeQkgog4  ROCKSTAR (feat. Roddy Ricch)         0.746   \n",
      "97  68Dni7IE4VyPkTOH9mRWHr                No Role Modelz         0.690   \n",
      "98  2iuZJX9X9P0GKaE93xcPjk                         Sugar         0.748   \n",
      "99  5ghIJDpPoe3CfHMGu71E6T       Smells Like Teen Spirit         0.502   \n",
      "\n",
      "    energy  key  loudness  mode  speechiness  acousticness  instrumentalness  \\\n",
      "0    0.652    1    -3.183     0       0.0802      0.581000          0.000000   \n",
      "1    0.730    1    -5.934     1       0.0598      0.001460          0.000095   \n",
      "2    0.588    6    -6.400     0       0.0924      0.692000          0.000104   \n",
      "3    0.405    1    -5.679     1       0.0319      0.751000          0.000000   \n",
      "4    0.520    5    -6.136     0       0.0712      0.124000          0.000070   \n",
      "..     ...  ...       ...   ...          ...           ...               ...   \n",
      "95   0.444   11    -9.331     1       0.0417      0.559000          0.000000   \n",
      "96   0.690   11    -7.956     1       0.1640      0.247000          0.000000   \n",
      "97   0.521   10    -8.492     0       0.3390      0.324000          0.000000   \n",
      "98   0.788    1    -7.055     1       0.0334      0.059100          0.000000   \n",
      "99   0.912    1    -4.556     1       0.0564      0.000025          0.000173   \n",
      "\n",
      "    liveness  valence    tempo            type                      id  \\\n",
      "0     0.0931    0.931   95.977  audio_features  7qiZfU4dY1lWllzX7mPBI3   \n",
      "1     0.0897    0.334  171.005  audio_features  0VjIjW4GlUZAMYd2vXMi3b   \n",
      "2     0.1490    0.513   98.027  audio_features  2XU0oxnq2qxCpomAAuJY8K   \n",
      "3     0.1050    0.446  109.891  audio_features  7qEHsqek33rTcFNT9PFqLf   \n",
      "4     0.1310    0.129  159.801  audio_features  0e7ipj03S05BNilyu5bRzt   \n",
      "..       ...      ...      ...             ...                     ...   \n",
      "95    0.0973    0.712  150.960  audio_features  1EzrEOXmMH3G43AXT1y7pA   \n",
      "96    0.1010    0.497   89.977  audio_features  7ytR5pFWmSjzHJIeQkgog4   \n",
      "97    0.0534    0.494  100.028  audio_features  68Dni7IE4VyPkTOH9mRWHr   \n",
      "98    0.0863    0.884  120.076  audio_features  2iuZJX9X9P0GKaE93xcPjk   \n",
      "99    0.1060    0.720  116.761  audio_features  5ghIJDpPoe3CfHMGu71E6T   \n",
      "\n",
      "                                     uri  \\\n",
      "0   spotify:track:7qiZfU4dY1lWllzX7mPBI3   \n",
      "1   spotify:track:0VjIjW4GlUZAMYd2vXMi3b   \n",
      "2   spotify:track:2XU0oxnq2qxCpomAAuJY8K   \n",
      "3   spotify:track:7qEHsqek33rTcFNT9PFqLf   \n",
      "4   spotify:track:0e7ipj03S05BNilyu5bRzt   \n",
      "..                                   ...   \n",
      "95  spotify:track:1EzrEOXmMH3G43AXT1y7pA   \n",
      "96  spotify:track:7ytR5pFWmSjzHJIeQkgog4   \n",
      "97  spotify:track:68Dni7IE4VyPkTOH9mRWHr   \n",
      "98  spotify:track:2iuZJX9X9P0GKaE93xcPjk   \n",
      "99  spotify:track:5ghIJDpPoe3CfHMGu71E6T   \n",
      "\n",
      "                                           track_href  \\\n",
      "0   https://api.spotify.com/v1/tracks/7qiZfU4dY1lW...   \n",
      "1   https://api.spotify.com/v1/tracks/0VjIjW4GlUZA...   \n",
      "2   https://api.spotify.com/v1/tracks/2XU0oxnq2qxC...   \n",
      "3   https://api.spotify.com/v1/tracks/7qEHsqek33rT...   \n",
      "4   https://api.spotify.com/v1/tracks/0e7ipj03S05B...   \n",
      "..                                                ...   \n",
      "95  https://api.spotify.com/v1/tracks/1EzrEOXmMH3G...   \n",
      "96  https://api.spotify.com/v1/tracks/7ytR5pFWmSjz...   \n",
      "97  https://api.spotify.com/v1/tracks/68Dni7IE4VyP...   \n",
      "98  https://api.spotify.com/v1/tracks/2iuZJX9X9P0G...   \n",
      "99  https://api.spotify.com/v1/tracks/5ghIJDpPoe3C...   \n",
      "\n",
      "                                         analysis_url  duration_ms  \\\n",
      "0   https://api.spotify.com/v1/audio-analysis/7qiZ...       233713   \n",
      "1   https://api.spotify.com/v1/audio-analysis/0VjI...       200040   \n",
      "2   https://api.spotify.com/v1/audio-analysis/2XU0...       209438   \n",
      "3   https://api.spotify.com/v1/audio-analysis/7qEH...       182161   \n",
      "4   https://api.spotify.com/v1/audio-analysis/0e7i...       218147   \n",
      "..                                                ...          ...   \n",
      "95  https://api.spotify.com/v1/audio-analysis/1Ezr...       242947   \n",
      "96  https://api.spotify.com/v1/audio-analysis/7ytR...       181733   \n",
      "97  https://api.spotify.com/v1/audio-analysis/68Dn...       292799   \n",
      "98  https://api.spotify.com/v1/audio-analysis/2iuZ...       235493   \n",
      "99  https://api.spotify.com/v1/audio-analysis/5ghI...       301920   \n",
      "\n",
      "    time_signature  \n",
      "0                4  \n",
      "1                4  \n",
      "2                4  \n",
      "3                4  \n",
      "4                4  \n",
      "..             ...  \n",
      "95               4  \n",
      "96               4  \n",
      "97               4  \n",
      "98               4  \n",
      "99               4  \n",
      "\n",
      "[100 rows x 20 columns]\n"
     ]
    }
   ],
   "source": [
    "playlist_df = main.get_playlist()\n",
    "playlist_df = main.get_track_audio_attributes(playlist_df)\n",
    "playlist_df"
   ]
  },
  {
   "cell_type": "code",
   "execution_count": null,
   "id": "84b17382-ac19-4c70-b149-ce5470582903",
   "metadata": {},
   "outputs": [],
   "source": []
  }
 ],
 "metadata": {
  "kernelspec": {
   "display_name": "Python 3 (ipykernel)",
   "language": "python",
   "name": "python3"
  },
  "language_info": {
   "codemirror_mode": {
    "name": "ipython",
    "version": 3
   },
   "file_extension": ".py",
   "mimetype": "text/x-python",
   "name": "python",
   "nbconvert_exporter": "python",
   "pygments_lexer": "ipython3",
   "version": "3.11.4"
  }
 },
 "nbformat": 4,
 "nbformat_minor": 5
}
