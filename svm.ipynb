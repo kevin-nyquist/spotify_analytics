{
 "cells": [
  {
   "cell_type": "code",
   "execution_count": 2,
   "id": "dacff728-8a54-4702-b7d9-9fe1e7ccb48d",
   "metadata": {
    "tags": []
   },
   "outputs": [],
   "source": [
    "import requests\n",
    "import pandas as pd\n",
    "import numpy as np"
   ]
  },
  {
   "cell_type": "code",
   "execution_count": 4,
   "id": "819c5aed-a4e5-4729-8a00-427e168c9c5d",
   "metadata": {
    "tags": []
   },
   "outputs": [],
   "source": [
    "from sklearn.model_selection import train_test_split\n",
    "\n",
    "df = pd.read_csv('Nov27_Final_Dataset.csv')\n",
    "\n",
    "feature_df = df[['danceability', 'energy', 'loudness', 'speechiness', 'acousticness'\n",
    "                 , 'liveness', 'valence', 'tempo', 'key', 'duration']]\n",
    "popular_df = df['popular'].astype('bool')\n",
    "\n",
    "# Independent Variable\n",
    "X = np.asarray(feature_df)\n",
    "\n",
    "# Dependent Variable\n",
    "y = np.asarray(popular_df)\n",
    "\n",
    "X_train, X_test, y_train, y_test = train_test_split(X, y, test_size=0.2, random_state=4)"
   ]
  },
  {
   "cell_type": "code",
   "execution_count": 5,
   "id": "1c9d5497-52fb-4d90-bd14-965909b60c68",
   "metadata": {
    "tags": []
   },
   "outputs": [],
   "source": [
    "from sklearn import svm\n",
    "\n",
    "\"\"\"\n",
    "    Define SVM using different kernels: Linear('linear'), polynomial('poly'), RBF('rbf'), and Sigmoid('sigmoid')\n",
    "    **Preform dimensionality reduction\n",
    "\"\"\"\n",
    "\n",
    "# Define kernel\n",
    "classifier = svm.SVC(kernel='poly', gamma='auto', C=2)\n",
    "\n",
    "# Fit and execute prediction\n",
    "classifier.fit(X_train, y_train)\n",
    "y_predict = classifier.predict(X_test)"
   ]
  },
  {
   "cell_type": "code",
   "execution_count": 6,
   "id": "7f810bf0-aac7-4485-8586-da739c40ae82",
   "metadata": {
    "tags": []
   },
   "outputs": [
    {
     "name": "stdout",
     "output_type": "stream",
     "text": [
      "              precision    recall  f1-score   support\n",
      "\n",
      "       False       0.66      0.68      0.67        63\n",
      "        True       0.56      0.53      0.54        47\n",
      "\n",
      "    accuracy                           0.62       110\n",
      "   macro avg       0.61      0.61      0.61       110\n",
      "weighted avg       0.62      0.62      0.62       110\n",
      "\n",
      "Mean accuracy: 0.6181818181818182\n"
     ]
    }
   ],
   "source": [
    "from sklearn.metrics import classification_report\n",
    "\n",
    "print(classification_report(y_test, y_predict))\n",
    "print(f\"Mean accuracy: {classifier.score(X_test, y_test)}\")"
   ]
  },
  {
   "cell_type": "code",
   "execution_count": 52,
   "id": "04b04be0-423a-43ca-bbab-27000587c83b",
   "metadata": {},
   "outputs": [
    {
     "name": "stdout",
     "output_type": "stream",
     "text": [
      "SVM 10-Fold Cross-Validation Scores: [0.64285714 0.80487805 0.65853659 0.75609756 0.56097561 0.70731707\n",
      " 0.63414634 0.63414634 0.65853659 0.70731707]\n",
      "Mean cross-validated score: 0.6764808362369338\n",
      "              precision    recall  f1-score   support\n",
      "\n",
      "       False       0.68      0.79      0.73        80\n",
      "        True       0.63      0.50      0.56        58\n",
      "\n",
      "    accuracy                           0.67       138\n",
      "   macro avg       0.66      0.64      0.65       138\n",
      "weighted avg       0.66      0.67      0.66       138\n",
      "\n",
      "Mean accuracy: 0.6666666666666666\n"
     ]
    }
   ],
   "source": [
    "from sklearn.model_selection import train_test_split\n",
    "from sklearn import svm\n",
    "from sklearn.metrics import classification_report\n",
    "from sklearn.model_selection import cross_val_score\n",
    "\n",
    "df = pd.read_csv('Nov27_Final_Dataset.csv')\n",
    "\"\"\"\n",
    "Best accuracy with this setup: 63.768% \n",
    "Features that don't improve accuracy: instrumentalness\n",
    "\n",
    "dance, energy, valence --> 66.66%, dance, tempo, valence -->66.66%\n",
    "dance, energy, tempo -- > 62%\n",
    "\n",
    "\"\"\"\n",
    "\n",
    "feature_df = df[['danceability','energy', 'valence']]\n",
    "popular_df = df['popular'].astype('bool')\n",
    "\n",
    "# Independent Variable\n",
    "X = np.asarray(feature_df)\n",
    "\n",
    "# Dependent Variable\n",
    "y = np.asarray(popular_df)\n",
    "\n",
    "X_train, X_test, y_train, y_test = train_test_split(X, y, test_size=0.25, random_state=4)\n",
    "\n",
    "# Define kernel\n",
    "classifier = svm.SVC(kernel='poly', gamma='auto', C=2)\n",
    "\n",
    "# Cross validation\n",
    "svm_cv_scores = cross_val_score(classifier, X_train, y_train, cv=10, scoring='accuracy')\n",
    "print(f\"SVM 10-Fold Cross-Validation Scores: {svm_cv_scores}\")\n",
    "print(\"Mean cross-validated score:\", svm_cv_scores.mean())\n",
    "\n",
    "# Fit and execute prediction\n",
    "classifier.fit(X_train, y_train)\n",
    "y_predict = classifier.predict(X_test)\n",
    "\n",
    "print(classification_report(y_test, y_predict))\n",
    "print(f\"Mean accuracy: {classifier.score(X_test, y_test)}\")"
   ]
  },
  {
   "cell_type": "code",
   "execution_count": 8,
   "id": "39fdb433-b86e-4b7a-8f67-99a7bbe8f751",
   "metadata": {
    "tags": []
   },
   "outputs": [
    {
     "data": {
      "text/plain": [
       "'\\nfrom sklearn.metrics import confusion_matrix\\nimport seaborn as sns; sns.set()\\nimport matplotlib.pyplot as ptl\\n\\nmat = confusion_matrix(y_test, y_predict, normalize=\"true\")      # unsure about the results of this confusion matrix\\nclass_labels = [\\'True\\', \\'False\\']\\nsns.heatmap(mat, annot=True, cmap=\\'viridis\\', xticklabels=class_labels, yticklabels=class_labels)\\n\\nptl.title(\\'SVM Classfier Confusion Matrix\\')\\nptl.xlabel(\\'Actual Popular Song\\')\\nptl.ylabel(\\'Predicted Popular Song\\')\\n'"
      ]
     },
     "execution_count": 8,
     "metadata": {},
     "output_type": "execute_result"
    }
   ],
   "source": [
    "\"\"\"\n",
    "from sklearn.metrics import confusion_matrix\n",
    "import seaborn as sns; sns.set()\n",
    "import matplotlib.pyplot as ptl\n",
    "\n",
    "mat = confusion_matrix(y_test, y_predict, normalize=\"true\")      # unsure about the results of this confusion matrix\n",
    "class_labels = ['True', 'False']\n",
    "sns.heatmap(mat, annot=True, cmap='viridis', xticklabels=class_labels, yticklabels=class_labels)\n",
    "\n",
    "ptl.title('SVM Classfier Confusion Matrix')\n",
    "ptl.xlabel('Actual Popular Song')\n",
    "ptl.ylabel('Predicted Popular Song')\n",
    "\"\"\""
   ]
  },
  {
   "cell_type": "code",
   "execution_count": 50,
   "id": "71f5b85a-ceac-4856-9dc3-5829c1e43d67",
   "metadata": {},
   "outputs": [
    {
     "name": "stdout",
     "output_type": "stream",
     "text": [
      "Best hyperparameters: {'svm__C': 100, 'svm__degree': 3, 'svm__gamma': 'scale', 'svm__kernel': 'poly'}\n",
      "Test set accuracy: 0.5545454545454546\n"
     ]
    }
   ],
   "source": [
    "\n",
    "from sklearn import datasets\n",
    "from sklearn.model_selection import train_test_split, GridSearchCV\n",
    "from sklearn.preprocessing import StandardScaler\n",
    "from sklearn.svm import SVC\n",
    "from sklearn.pipeline import Pipeline\n",
    "\n",
    "df = pd.read_csv('Nov27_Final_Dataset.csv')\n",
    "\n",
    "# Load a dataset (replace this with your own dataset)\n",
    "feature_df = df[['danceability', 'energy', 'valence']]\n",
    "popular_df = df['popular'].astype('bool')\n",
    "\n",
    "# Independent Variable\n",
    "X = np.asarray(feature_df)\n",
    "\n",
    "# Dependent Variable\n",
    "y = np.asarray(popular_df)\n",
    "\n",
    "# Split the data into training and testing sets\n",
    "X_train, X_test, y_train, y_test = train_test_split(X, y, test_size=0.2, random_state=42)\n",
    "\n",
    "# Create a pipeline with SVM and standard scaler\n",
    "pipeline = Pipeline([\n",
    "    ('scaler', StandardScaler()),  # Feature scaling\n",
    "    ('svm', SVC())  # Support Vector Machine\n",
    "])\n",
    "\n",
    "# Define the hyperparameters to search\n",
    "param_grid = {\n",
    "    'svm__C': [0.1, 1, 10, 100],  # Regularization parameter\n",
    "    'svm__kernel': ['poly'],  # Kernel type\n",
    "    'svm__degree': [2, 3, 4],\n",
    "    'svm__gamma': ['scale', 'auto']  # Kernel coefficient\n",
    "}\n",
    "\n",
    "# Create the GridSearchCV object with cross-validation\n",
    "grid_search = GridSearchCV(pipeline, param_grid, cv=5, scoring='accuracy')\n",
    "\n",
    "# Fit the model to the training data\n",
    "grid_search.fit(X_train, y_train)\n",
    "\n",
    "# Print the best hyperparameters found\n",
    "print(\"Best hyperparameters:\", grid_search.best_params_)\n",
    "\n",
    "# Evaluate the model on the test set\n",
    "accuracy = grid_search.score(X_test, y_test)\n",
    "print(\"Test set accuracy:\", accuracy)\n",
    "\n"
   ]
  },
  {
   "cell_type": "code",
   "execution_count": null,
   "metadata": {},
   "outputs": [],
   "source": []
  }
 ],
 "metadata": {
  "kernelspec": {
   "display_name": "Python 3 (ipykernel)",
   "language": "python",
   "name": "python3"
  },
  "language_info": {
   "codemirror_mode": {
    "name": "ipython",
    "version": 3
   },
   "file_extension": ".py",
   "mimetype": "text/x-python",
   "name": "python",
   "nbconvert_exporter": "python",
   "pygments_lexer": "ipython3",
   "version": "3.11.4"
  }
 },
 "nbformat": 4,
 "nbformat_minor": 5
}
