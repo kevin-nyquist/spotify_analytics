{
 "cells": [
  {
   "cell_type": "code",
   "execution_count": 1,
   "id": "dacff728-8a54-4702-b7d9-9fe1e7ccb48d",
   "metadata": {
    "tags": []
   },
   "outputs": [],
   "source": [
    "import requests\n",
    "import pandas as pd\n",
    "import numpy as np"
   ]
  },
  {
   "cell_type": "code",
   "execution_count": 4,
   "id": "819c5aed-a4e5-4729-8a00-427e168c9c5d",
   "metadata": {
    "tags": []
   },
   "outputs": [],
   "source": [
    "from sklearn.model_selection import train_test_split\n",
    "\n",
    "df = pd.read_csv('Nov27_Final_Dataset.csv')\n",
    "\n",
    "feature_df = df[['danceability', 'energy', 'loudness', 'speechiness', 'acousticness'\n",
    "                 , 'liveness', 'valence', 'tempo', 'key', 'duration']]\n",
    "popular_df = df['popular'].astype('bool')\n",
    "\n",
    "# Independent Variable\n",
    "X = np.asarray(feature_df)\n",
    "\n",
    "# Dependent Variable\n",
    "y = np.asarray(popular_df)\n",
    "\n",
    "X_train, X_test, y_train, y_test = train_test_split(X, y, test_size=0.2, random_state=4)"
   ]
  },
  {
   "cell_type": "code",
   "execution_count": 5,
   "id": "1c9d5497-52fb-4d90-bd14-965909b60c68",
   "metadata": {
    "tags": []
   },
   "outputs": [],
   "source": [
    "from sklearn import svm\n",
    "\n",
    "\"\"\"\n",
    "    Define SVM using different kernels: Linear('linear'), polynomial('poly'), RBF('rbf'), and Sigmoid('sigmoid')\n",
    "    **Preform dimensionality reduction\n",
    "\"\"\"\n",
    "\n",
    "# Define kernel\n",
    "classifier = svm.SVC(kernel='poly', gamma='auto', C=2)\n",
    "\n",
    "# Fit and execute prediction\n",
    "classifier.fit(X_train, y_train)\n",
    "y_predict = classifier.predict(X_test)"
   ]
  },
  {
   "cell_type": "code",
   "execution_count": 6,
   "id": "7f810bf0-aac7-4485-8586-da739c40ae82",
   "metadata": {
    "tags": []
   },
   "outputs": [
    {
     "name": "stdout",
     "output_type": "stream",
     "text": [
      "              precision    recall  f1-score   support\n",
      "\n",
      "       False       0.66      0.68      0.67        63\n",
      "        True       0.56      0.53      0.54        47\n",
      "\n",
      "    accuracy                           0.62       110\n",
      "   macro avg       0.61      0.61      0.61       110\n",
      "weighted avg       0.62      0.62      0.62       110\n",
      "\n",
      "Mean accuracy: 0.6181818181818182\n"
     ]
    }
   ],
   "source": [
    "from sklearn.metrics import classification_report\n",
    "\n",
    "print(classification_report(y_test, y_predict))\n",
    "print(f\"Mean accuracy: {classifier.score(X_test, y_test)}\")"
   ]
  },
  {
   "cell_type": "code",
   "execution_count": 11,
   "id": "04b04be0-423a-43ca-bbab-27000587c83b",
   "metadata": {},
   "outputs": [
    {
     "name": "stdout",
     "output_type": "stream",
     "text": [
      "              precision    recall  f1-score   support\n",
      "\n",
      "       False       0.71      0.59      0.64        94\n",
      "        True       0.56      0.69      0.62        71\n",
      "\n",
      "    accuracy                           0.63       165\n",
      "   macro avg       0.64      0.64      0.63       165\n",
      "weighted avg       0.65      0.63      0.63       165\n",
      "\n"
     ]
    }
   ],
   "source": [
    "from sklearn.model_selection import train_test_split\n",
    "from sklearn import svm\n",
    "from sklearn.metrics import classification_report\n",
    "\n",
    "\n",
    "df = pd.read_csv('Nov27_Final_Dataset.csv')\n",
    "\n",
    "feature_df = df[['danceability', 'energy', 'valence', 'tempo']]\n",
    "popular_df = df['popular'].astype('bool')\n",
    "\n",
    "# Independent Variable\n",
    "X = np.asarray(feature_df)\n",
    "\n",
    "# Dependent Variable\n",
    "y = np.asarray(popular_df)\n",
    "\n",
    "X_train, X_test, y_train, y_test = train_test_split(X, y, test_size=0.25, random_state=4)\n",
    "\n",
    "# Define kernel\n",
    "classifier = svm.SVC(kernel='poly', gamma='auto', C=2)\n",
    "\n",
    "# Fit and execute prediction\n",
    "classifier.fit(X_train, y_train)\n",
    "y_predict = classifier.predict(X_test)\n",
    "\n",
    "print(classification_report(y_test, y_predict))"
   ]
  },
  {
   "cell_type": "code",
   "execution_count": 12,
   "id": "e7d703fc",
   "metadata": {
    "tags": []
   },
   "outputs": [
    {
     "name": "stdout",
     "output_type": "stream",
     "text": [
      "Mean accuracy: 0.6303030303030303\n"
     ]
    }
   ],
   "source": [
    "print(f\"Mean accuracy: {classifier.score(X_test, y_test)}\")"
   ]
  },
  {
   "cell_type": "code",
   "execution_count": 8,
   "id": "39fdb433-b86e-4b7a-8f67-99a7bbe8f751",
   "metadata": {
    "tags": []
   },
   "outputs": [
    {
     "data": {
      "text/plain": [
       "'\\nfrom sklearn.metrics import confusion_matrix\\nimport seaborn as sns; sns.set()\\nimport matplotlib.pyplot as ptl\\n\\nmat = confusion_matrix(y_test, y_predict, normalize=\"true\")      # unsure about the results of this confusion matrix\\nclass_labels = [\\'True\\', \\'False\\']\\nsns.heatmap(mat, annot=True, cmap=\\'viridis\\', xticklabels=class_labels, yticklabels=class_labels)\\n\\nptl.title(\\'SVM Classfier Confusion Matrix\\')\\nptl.xlabel(\\'Actual Popular Song\\')\\nptl.ylabel(\\'Predicted Popular Song\\')\\n'"
      ]
     },
     "execution_count": 8,
     "metadata": {},
     "output_type": "execute_result"
    }
   ],
   "source": [
    "\"\"\"\n",
    "from sklearn.metrics import confusion_matrix\n",
    "import seaborn as sns; sns.set()\n",
    "import matplotlib.pyplot as ptl\n",
    "\n",
    "mat = confusion_matrix(y_test, y_predict, normalize=\"true\")      # unsure about the results of this confusion matrix\n",
    "class_labels = ['True', 'False']\n",
    "sns.heatmap(mat, annot=True, cmap='viridis', xticklabels=class_labels, yticklabels=class_labels)\n",
    "\n",
    "ptl.title('SVM Classfier Confusion Matrix')\n",
    "ptl.xlabel('Actual Popular Song')\n",
    "ptl.ylabel('Predicted Popular Song')\n",
    "\"\"\""
   ]
  },
  {
   "cell_type": "code",
   "execution_count": null,
   "id": "71f5b85a-ceac-4856-9dc3-5829c1e43d67",
   "metadata": {},
   "outputs": [],
   "source": []
  }
 ],
 "metadata": {
  "kernelspec": {
   "display_name": "Python 3 (ipykernel)",
   "language": "python",
   "name": "python3"
  },
  "language_info": {
   "codemirror_mode": {
    "name": "ipython",
    "version": 3
   },
   "file_extension": ".py",
   "mimetype": "text/x-python",
   "name": "python",
   "nbconvert_exporter": "python",
   "pygments_lexer": "ipython3",
   "version": "3.11.4"
  }
 },
 "nbformat": 4,
 "nbformat_minor": 5
}
